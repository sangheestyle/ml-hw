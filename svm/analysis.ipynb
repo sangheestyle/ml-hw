{
 "cells": [
  {
   "cell_type": "markdown",
   "metadata": {},
   "source": [
    "# Analysis for SVM\n",
    "* Name: Sanghee Kim\n",
    "* Submission date: Fri 6 Mar, 2015"
   ]
  },
  {
   "cell_type": "markdown",
   "metadata": {},
   "source": [
    "## 1. Use the scikit implementation of SVMs to train a classifier to distingush 3's from 8's.\n",
    "\n",
    "You can get the code for svm-learn.py for this analysis at the following link:\n",
    "\n",
    "https://github.com/sangheestyle/ml-hw/blob/master/svm/svm-learn.py"
   ]
  },
  {
   "cell_type": "markdown",
   "metadata": {},
   "source": [
    "## 2. Try at least five values of the regularization parameter C and at least two kernels.\n",
    "I chose the following setup:\n",
    "\n",
    "* C: 1, 3, 5, 10, 20\n",
    "* kernel: linear, polynomial (degree=2)\n",
    "\n",
    "In poly kernel case, bigger C value makes higher accuracy. However, in linear kernel case, smaller C value makes higher accuracy. It means that **we need to choose C value based on kernel type in terms of accuracy.**\n",
    "\n",
    "### Linear kernel with C=1,3,5,10,20"
   ]
  },
  {
   "cell_type": "code",
   "execution_count": 8,
   "metadata": {
    "collapsed": false
   },
   "outputs": [
    {
     "name": "stdout",
     "output_type": "stream",
     "text": [
      "accuracy:  96.8121628249 , C: 1.0 , kernel: linear\n"
     ]
    }
   ],
   "source": [
    "%run svm-learn.py --C=1 --kernel='linear'"
   ]
  },
  {
   "cell_type": "code",
   "execution_count": 9,
   "metadata": {
    "collapsed": false
   },
   "outputs": [
    {
     "name": "stdout",
     "output_type": "stream",
     "text": [
      "accuracy:  96.6650318784 , C: 3.0 , kernel: linear\n"
     ]
    }
   ],
   "source": [
    "%run svm-learn.py --C=3 --kernel='linear'"
   ]
  },
  {
   "cell_type": "code",
   "execution_count": 10,
   "metadata": {
    "collapsed": false
   },
   "outputs": [
    {
     "name": "stdout",
     "output_type": "stream",
     "text": [
      "accuracy:  96.468857283 , C: 5.0 , kernel: linear\n"
     ]
    }
   ],
   "source": [
    "%run svm-learn.py --C=5 --kernel='linear'"
   ]
  },
  {
   "cell_type": "code",
   "execution_count": 11,
   "metadata": {
    "collapsed": false
   },
   "outputs": [
    {
     "name": "stdout",
     "output_type": "stream",
     "text": [
      "accuracy:  96.3707699853 , C: 10.0 , kernel: linear\n"
     ]
    }
   ],
   "source": [
    "%run svm-learn.py --C=10 --kernel='linear'"
   ]
  },
  {
   "cell_type": "code",
   "execution_count": 12,
   "metadata": {
    "collapsed": false
   },
   "outputs": [
    {
     "name": "stdout",
     "output_type": "stream",
     "text": [
      "accuracy:  96.0765080922 , C: 20.0 , kernel: linear\n"
     ]
    }
   ],
   "source": [
    "%run svm-learn.py --C=20 --kernel='linear'"
   ]
  },
  {
   "cell_type": "markdown",
   "metadata": {},
   "source": [
    "### Poly kernel(degree=2) with C=1,3,5,10,20"
   ]
  },
  {
   "cell_type": "code",
   "execution_count": 7,
   "metadata": {
    "collapsed": false
   },
   "outputs": [
    {
     "name": "stdout",
     "output_type": "stream",
     "text": [
      "accuracy:  95.6841589014 , C: 1.0 , kernel: poly\n",
      "degree: 2 , gamma: 0.0 , coef0: 0.0\n"
     ]
    }
   ],
   "source": [
    "%run svm-learn.py --C=1 --kernel='poly' --degree=2"
   ]
  },
  {
   "cell_type": "code",
   "execution_count": 13,
   "metadata": {
    "collapsed": false
   },
   "outputs": [
    {
     "name": "stdout",
     "output_type": "stream",
     "text": [
      "accuracy:  97.106424718 , C: 3.0 , kernel: poly\n",
      "degree: 2 , gamma: 0.0 , coef0: 0.0\n"
     ]
    }
   ],
   "source": [
    "%run svm-learn.py --C=3 --kernel='poly' --degree=2"
   ]
  },
  {
   "cell_type": "code",
   "execution_count": 14,
   "metadata": {
    "collapsed": false
   },
   "outputs": [
    {
     "name": "stdout",
     "output_type": "stream",
     "text": [
      "accuracy:  97.4987739088 , C: 5.0 , kernel: poly\n",
      "degree: 2 , gamma: 0.0 , coef0: 0.0\n"
     ]
    }
   ],
   "source": [
    "%run svm-learn.py --C=5 --kernel='poly' --degree=2"
   ]
  },
  {
   "cell_type": "code",
   "execution_count": 15,
   "metadata": {
    "collapsed": false
   },
   "outputs": [
    {
     "name": "stdout",
     "output_type": "stream",
     "text": [
      "accuracy:  97.8911230996 , C: 10.0 , kernel: poly\n",
      "degree: 2 , gamma: 0.0 , coef0: 0.0\n"
     ]
    }
   ],
   "source": [
    "%run svm-learn.py --C=10 --kernel='poly' --degree=2"
   ]
  },
  {
   "cell_type": "code",
   "execution_count": 16,
   "metadata": {
    "collapsed": false
   },
   "outputs": [
    {
     "name": "stdout",
     "output_type": "stream",
     "text": [
      "accuracy:  98.2344286415 , C: 20.0 , kernel: poly\n",
      "degree: 2 , gamma: 0.0 , coef0: 0.0\n"
     ]
    }
   ],
   "source": [
    "%run svm-learn.py --C=20 --kernel='poly' --degree=2"
   ]
  },
  {
   "cell_type": "markdown",
   "metadata": {},
   "source": [
    "## 3. Give examples of support vectors with a linear kernel."
   ]
  },
  {
   "cell_type": "code",
   "execution_count": 7,
   "metadata": {
    "collapsed": false
   },
   "outputs": [
    {
     "name": "stdout",
     "output_type": "stream",
     "text": [
      "accuracy:  96.8121628249 , C: 1.0 , kernel: linear\n"
     ]
    },
    {
     "data": {
      "image/png": "[encoded data removed]",
      "text/plain": [
       "<matplotlib.figure.Figure at 0x7fd04b382950>"
      ]
     },
     "metadata": {},
     "output_type": "display_data"
    }
   ],
   "source": [
    "%matplotlib inline\n",
    "%run svm-learn.py --C=1 --kernel='linear' --examples=True"
   ]
  },
  {
   "cell_type": "code",
   "execution_count": null,
   "metadata": {
    "collapsed": true
   },
   "outputs": [],
   "source": []
  }
 ],
 "metadata": {
  "kernelspec": {
   "display_name": "Python 2",
   "language": "python",
   "name": "python2"
  },
  "language_info": {
   "codemirror_mode": {
    "name": "ipython",
    "version": 2
   },
   "file_extension": ".py",
   "mimetype": "text/x-python",
   "name": "python",
   "nbconvert_exporter": "python",
   "pygments_lexer": "ipython2",
   "version": "2.7.8"
  }
 },
 "nbformat": 4,
 "nbformat_minor": 0
}
